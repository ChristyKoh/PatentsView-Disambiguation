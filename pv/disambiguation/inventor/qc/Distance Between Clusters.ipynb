{
 "cells": [
  {
   "cell_type": "code",
   "execution_count": 26,
   "metadata": {
    "ExecuteTime": {
     "end_time": "2020-09-29T21:46:34.723042Z",
     "start_time": "2020-09-29T21:46:34.706130Z"
    }
   },
   "outputs": [],
   "source": [
    "import pymysql\n",
    "import configparser\n",
    "import pandas as pd\n",
    "import matplotlib.pyplot as plt\n",
    "import numpy as np\n",
    "\n",
    "from itertools import combinations\n",
    "\n",
    "from tqdm.notebook import tqdm\n",
    "import pymysql\n",
    "import configparser\n",
    "import pandas as pd\n",
    "import matplotlib.pyplot as plt\n",
    "import numpy as np"
   ]
  },
  {
   "cell_type": "code",
   "execution_count": 2,
   "metadata": {
    "ExecuteTime": {
     "end_time": "2020-09-28T20:43:39.549364Z",
     "start_time": "2020-09-28T20:43:39.522739Z"
    },
    "scrolled": true
   },
   "outputs": [
    {
     "data": {
      "text/plain": [
       "['./resource/db.ini']"
      ]
     },
     "execution_count": 2,
     "metadata": {},
     "output_type": "execute_result"
    }
   ],
   "source": [
    "config = configparser.ConfigParser()\n",
    "filename = './resource/db.ini'\n",
    "config.read(filename)"
   ]
  },
  {
   "cell_type": "code",
   "execution_count": 3,
   "metadata": {
    "ExecuteTime": {
     "end_time": "2020-09-28T20:43:39.664333Z",
     "start_time": "2020-09-28T20:43:39.657049Z"
    }
   },
   "outputs": [],
   "source": [
    "connection = pymysql.connect(host=config['DATABASE']['HOST'],\n",
    "                             user=config['DATABASE']['USERNAME'],\n",
    "                             password=config['DATABASE']['PASSWORD'],\n",
    "                             db=\"patent_20200630\",\n",
    "                             charset='utf8mb4',\n",
    "                             defer_connect=True)"
   ]
  },
  {
   "cell_type": "code",
   "execution_count": 6,
   "metadata": {
    "ExecuteTime": {
     "end_time": "2020-09-28T20:43:41.864693Z",
     "start_time": "2020-09-28T20:43:41.860731Z"
    }
   },
   "outputs": [],
   "source": [
    "old_data_distances = []\n",
    "new_data_distances = []"
   ]
  },
  {
   "cell_type": "code",
   "execution_count": 7,
   "metadata": {
    "ExecuteTime": {
     "end_time": "2020-09-28T20:43:42.088376Z",
     "start_time": "2020-09-28T20:43:42.083915Z"
    }
   },
   "outputs": [],
   "source": [
    "old_data_id_query_template = \"\"\"\n",
    "SELECT id from inventor order by id limit {l} offset {o}\n",
    "\"\"\"\n",
    "\n",
    "old_data_query_template = \"\"\"\n",
    "SELECT r.inventor_id , CONCAT_WS(' ',r.name_first, r.name_last) inventor_name from rawinventor r join ({id_query}) id on id.id = r.inventor_id order by r.inventor_id\n",
    "\"\"\""
   ]
  },
  {
   "cell_type": "code",
   "execution_count": 8,
   "metadata": {
    "ExecuteTime": {
     "end_time": "2020-09-28T20:43:43.219791Z",
     "start_time": "2020-09-28T20:43:43.208210Z"
    }
   },
   "outputs": [],
   "source": []
  },
  {
   "cell_type": "code",
   "execution_count": 10,
   "metadata": {
    "ExecuteTime": {
     "end_time": "2020-09-28T20:44:23.044134Z",
     "start_time": "2020-09-28T20:44:23.039514Z"
    }
   },
   "outputs": [],
   "source": [
    "limit = 50000\n",
    "offset = 0"
   ]
  },
  {
   "cell_type": "code",
   "execution_count": 12,
   "metadata": {
    "ExecuteTime": {
     "end_time": "2020-09-28T21:38:15.562692Z",
     "start_time": "2020-09-28T20:46:00.253557Z"
    }
   },
   "outputs": [
    {
     "data": {
      "application/vnd.jupyter.widget-view+json": {
       "model_id": "0254f82bb8cc4bbd8c434642efe777a2",
       "version_major": 2,
       "version_minor": 0
      },
      "text/plain": [
       "HBox(children=(HTML(value=''), FloatProgress(value=0.0, max=3977356.0), HTML(value='')))"
      ]
     },
     "metadata": {},
     "output_type": "display_data"
    },
    {
     "name": "stdout",
     "output_type": "stream",
     "text": [
      "\n"
     ]
    }
   ],
   "source": [
    "pbar = tqdm(total=3977356)\n",
    "mode='w'\n",
    "while True:\n",
    "    id_query = old_data_id_query_template.format(l=limit, o=offset)\n",
    "    data_query = old_data_query_template.format(id_query=id_query)\n",
    "    current_df = get_dataframe_from_pymysql_cursor(connection, data_query)\n",
    "    if current_df.shape[0] < 1:\n",
    "        break\n",
    "    current_sizes =current_df.groupby(\"inventor_id\").apply(calculate_cluster_distances).reset_index()\n",
    "    old_data_distances.append(current_sizes)\n",
    "#     current_sizes.to_csv(\"./data/old_within_cluster_distance.csv\", index=False)\n",
    "#     mode='a'\n",
    "    pbar.update(limit)\n",
    "    offset += limit\n",
    "pbar.close()\n",
    "\n"
   ]
  },
  {
   "cell_type": "code",
   "execution_count": 13,
   "metadata": {
    "ExecuteTime": {
     "end_time": "2020-09-28T23:12:51.606745Z",
     "start_time": "2020-09-28T23:12:43.884958Z"
    }
   },
   "outputs": [
    {
     "ename": "NameError",
     "evalue": "name 'old_distances_x' is not defined",
     "output_type": "error",
     "traceback": [
      "\u001b[0;31m---------------------------------------------------------------------------\u001b[0m",
      "\u001b[0;31mNameError\u001b[0m                                 Traceback (most recent call last)",
      "\u001b[0;32m<ipython-input-13-7614ebb21998>\u001b[0m in \u001b[0;36m<module>\u001b[0;34m\u001b[0m\n\u001b[1;32m      1\u001b[0m \u001b[0mold_data_distances_x\u001b[0m \u001b[0;34m=\u001b[0m \u001b[0mpd\u001b[0m\u001b[0;34m.\u001b[0m\u001b[0mconcat\u001b[0m\u001b[0;34m(\u001b[0m\u001b[0mold_data_distances\u001b[0m\u001b[0;34m)\u001b[0m\u001b[0;34m\u001b[0m\u001b[0;34m\u001b[0m\u001b[0m\n\u001b[0;32m----> 2\u001b[0;31m \u001b[0mold_na_dropped_distances\u001b[0m \u001b[0;34m=\u001b[0m \u001b[0mold_distances_x\u001b[0m\u001b[0;34m[\u001b[0m\u001b[0;34m~\u001b[0m\u001b[0mold_data_distances_x\u001b[0m\u001b[0;34m.\u001b[0m\u001b[0mlevenshtein\u001b[0m\u001b[0;34m.\u001b[0m\u001b[0misnull\u001b[0m\u001b[0;34m(\u001b[0m\u001b[0;34m)\u001b[0m\u001b[0;34m]\u001b[0m\u001b[0;34m\u001b[0m\u001b[0;34m\u001b[0m\u001b[0m\n\u001b[0m",
      "\u001b[0;31mNameError\u001b[0m: name 'old_distances_x' is not defined"
     ]
    }
   ],
   "source": [
    "old_data_distances_x = pd.concat(old_data_distances)\n",
    "\n"
   ]
  },
  {
   "cell_type": "code",
   "execution_count": 14,
   "metadata": {
    "ExecuteTime": {
     "end_time": "2020-09-28T23:13:05.178099Z",
     "start_time": "2020-09-28T23:13:04.561320Z"
    }
   },
   "outputs": [],
   "source": [
    "old_na_dropped_distances = old_data_distances_x[~old_data_distances_x.levenshtein.isnull()]"
   ]
  },
  {
   "cell_type": "code",
   "execution_count": 15,
   "metadata": {
    "ExecuteTime": {
     "end_time": "2020-09-28T23:14:07.073371Z",
     "start_time": "2020-09-28T23:13:22.887864Z"
    }
   },
   "outputs": [],
   "source": [
    "old_na_dropped_distances.to_csv(\"./data/old_cluster_distances.csv\", index=False)"
   ]
  },
  {
   "cell_type": "code",
   "execution_count": 16,
   "metadata": {
    "ExecuteTime": {
     "end_time": "2020-09-28T23:47:34.938540Z",
     "start_time": "2020-09-28T23:47:34.884033Z"
    }
   },
   "outputs": [],
   "source": [
    "new_data_id_query_template = \"\"\"\n",
    "SELECT disambiguated_id \n",
    "from tmp_inventor_disambiguation_granted_ids order by disambiguated_id limit {l} offset {o}\n",
    "\"\"\"\n",
    "\n",
    "new_data_query_template = \"\"\"\n",
    "SELECT tidg.disambiguated_id , CONCAT_WS(' ',r.name_first, r.name_last) inventor_name from tmp_inventor_disambiguation_granted tidg\n",
    "         join ({id_query}) tidg2\n",
    "              on tidg2.disambiguated_id = tidg.disambiguated_id\n",
    "         join rawinventor r on tidg.uuid = r.uuid order by tidg.disambiguated_id\n",
    "\"\"\""
   ]
  },
  {
   "cell_type": "code",
   "execution_count": 19,
   "metadata": {
    "ExecuteTime": {
     "end_time": "2020-09-28T23:48:11.526429Z",
     "start_time": "2020-09-28T23:48:11.518399Z"
    }
   },
   "outputs": [],
   "source": [
    "limit = 75000\n",
    "offset = 0"
   ]
  },
  {
   "cell_type": "code",
   "execution_count": 21,
   "metadata": {
    "ExecuteTime": {
     "end_time": "2020-09-29T01:00:07.877874Z",
     "start_time": "2020-09-28T23:48:15.788358Z"
    }
   },
   "outputs": [
    {
     "data": {
      "application/vnd.jupyter.widget-view+json": {
       "model_id": "2c2f5a8bdd5a492cbcffb9f0fad7128e",
       "version_major": 2,
       "version_minor": 0
      },
      "text/plain": [
       "HBox(children=(HTML(value=''), FloatProgress(value=0.0, max=3977356.0), HTML(value='')))"
      ]
     },
     "metadata": {},
     "output_type": "display_data"
    },
    {
     "name": "stdout",
     "output_type": "stream",
     "text": [
      "\n",
      "\n"
     ]
    }
   ],
   "source": [
    "pbar = tqdm(total=3977356)\n",
    "while True:\n",
    "    id_query = new_data_id_query_template.format(l=limit, o=offset)\n",
    "    data_query = new_data_query_template.format(id_query=id_query)\n",
    "    current_df = get_dataframe_from_pymysql_cursor(connection, data_query)\n",
    "    if current_df.shape[0] < 1:\n",
    "        break\n",
    "    new_data_distances.append(\n",
    "        current_df.groupby(\"disambiguated_id\").apply(\n",
    "            calculate_cluster_distances).reset_index())\n",
    "    pbar.update(limit)\n",
    "    offset += limit\n",
    "\n",
    "pbar.close()\n"
   ]
  },
  {
   "cell_type": "code",
   "execution_count": 22,
   "metadata": {
    "ExecuteTime": {
     "end_time": "2020-09-29T04:49:16.645834Z",
     "start_time": "2020-09-29T04:49:00.965077Z"
    }
   },
   "outputs": [],
   "source": [
    "\n",
    "new_data_distances_x = pd.concat(new_data_distances)\n",
    "\n",
    "new_na_dropped_distances = new_data_distances_x[~new_data_distances_x.levenshtein.isnull()]"
   ]
  },
  {
   "cell_type": "code",
   "execution_count": 23,
   "metadata": {
    "ExecuteTime": {
     "end_time": "2020-09-29T16:02:58.491626Z",
     "start_time": "2020-09-29T16:02:27.293751Z"
    }
   },
   "outputs": [],
   "source": [
    "new_na_dropped_distances.to_csv(\"./data/new_cluster_distances.csv\", index=False)"
   ]
  },
  {
   "cell_type": "code",
   "execution_count": 33,
   "metadata": {
    "ExecuteTime": {
     "end_time": "2020-09-29T21:50:10.357242Z",
     "start_time": "2020-09-29T21:50:04.799605Z"
    }
   },
   "outputs": [
    {
     "data": {
      "text/plain": [
       "array([<AxesSubplot:>, <AxesSubplot:>], dtype=object)"
      ]
     },
     "execution_count": 33,
     "metadata": {},
     "output_type": "execute_result"
    },
    {
     "data": {
      "image/png": "[encoded data removed]",
      "text/plain": [
       "<Figure size 1080x720 with 2 Axes>"
      ]
     },
     "metadata": {
      "needs_background": "light"
     },
     "output_type": "display_data"
    }
   ],
   "source": [
    "generate_comparitive_violin_plot(old_na_dropped_distances[old_na_dropped_distances.levenshtein>0].levenshtein ,\n",
    "                                 new_na_dropped_distances[new_na_dropped_distances.levenshtein>0].levenshtein ,log=True)"
   ]
  },
  {
   "cell_type": "code",
   "execution_count": null,
   "metadata": {},
   "outputs": [],
   "source": []
  }
 ],
 "metadata": {
  "kernelspec": {
   "display_name": "Python 3",
   "language": "python",
   "name": "python3"
  },
  "language_info": {
   "codemirror_mode": {
    "name": "ipython",
    "version": 3
   },
   "file_extension": ".py",
   "mimetype": "text/x-python",
   "name": "python",
   "nbconvert_exporter": "python",
   "pygments_lexer": "ipython3",
   "version": "3.8.5"
  }
 },
 "nbformat": 4,
 "nbformat_minor": 4
}
