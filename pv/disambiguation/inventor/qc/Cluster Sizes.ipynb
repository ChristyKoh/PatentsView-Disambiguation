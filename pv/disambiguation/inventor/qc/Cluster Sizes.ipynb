{
 "cells": [
  {
   "cell_type": "code",
   "execution_count": 4,
   "metadata": {
    "ExecuteTime": {
     "end_time": "2020-09-29T21:58:36.797438Z",
     "start_time": "2020-09-29T21:58:36.679431Z"
    }
   },
   "outputs": [],
   "source": [
    "import configparser\n",
    "import pymysql"
   ]
  },
  {
   "cell_type": "code",
   "execution_count": 7,
   "metadata": {
    "ExecuteTime": {
     "end_time": "2020-09-29T21:58:59.419185Z",
     "start_time": "2020-09-29T21:58:59.414219Z"
    }
   },
   "outputs": [],
   "source": [
    "from src.utils import get_dataframe_from_pymysql_cursor, generate_comparitive_violin_plot"
   ]
  },
  {
   "cell_type": "code",
   "execution_count": 5,
   "metadata": {
    "ExecuteTime": {
     "end_time": "2020-09-29T21:58:37.233616Z",
     "start_time": "2020-09-29T21:58:37.219982Z"
    },
    "scrolled": true
   },
   "outputs": [
    {
     "data": {
      "text/plain": [
       "['./resource/db.ini']"
      ]
     },
     "execution_count": 5,
     "metadata": {},
     "output_type": "execute_result"
    }
   ],
   "source": [
    "config = configparser.ConfigParser()\n",
    "filename = './resource/db.ini'\n",
    "config.read(filename)"
   ]
  },
  {
   "cell_type": "code",
   "execution_count": 11,
   "metadata": {
    "ExecuteTime": {
     "end_time": "2020-09-29T21:59:21.039571Z",
     "start_time": "2020-09-29T21:59:21.031822Z"
    }
   },
   "outputs": [],
   "source": [
    "connection = pymysql.connect(host=config['DATABASE']['HOST'],\n",
    "                             user=config['DATABASE']['USERNAME'],\n",
    "                             password=config['DATABASE']['PASSWORD'],\n",
    "                             db=\"patent_20200929\",\n",
    "                             charset='utf8mb4',\n",
    "                             defer_connect=True)"
   ]
  },
  {
   "cell_type": "markdown",
   "metadata": {},
   "source": [
    "# Size of each cluster (Before/After)"
   ]
  },
  {
   "cell_type": "code",
   "execution_count": 12,
   "metadata": {
    "ExecuteTime": {
     "end_time": "2020-09-29T22:02:16.311128Z",
     "start_time": "2020-09-29T21:59:21.716839Z"
    }
   },
   "outputs": [],
   "source": [
    "old_disambig_data_query = \"\"\"\n",
    "select count(1) as cluster_size, inventor_id\n",
    "from rawinventor\n",
    "group by inventor_id\n",
    "\"\"\"\n",
    "\n",
    "old_disambig_data=get_dataframe_from_pymysql_cursor(connection, old_disambig_data_query)"
   ]
  },
  {
   "cell_type": "code",
   "execution_count": 13,
   "metadata": {
    "ExecuteTime": {
     "end_time": "2020-09-29T22:04:34.370507Z",
     "start_time": "2020-09-29T22:02:16.320275Z"
    }
   },
   "outputs": [],
   "source": [
    "new_disambig_data_query = \"\"\"\n",
    "SELECT disambiguated_id, count(1) as cluster_size\n",
    "from tmp_inventor_disambiguation_granted\n",
    "group by disambiguated_id;\n",
    "\"\"\"\n",
    "\n",
    "new_disambig_data=get_dataframe_from_pymysql_cursor(connection, new_disambig_data_query)"
   ]
  },
  {
   "cell_type": "code",
   "execution_count": null,
   "metadata": {
    "ExecuteTime": {
     "end_time": "2020-09-23T03:06:45.948505Z",
     "start_time": "2020-09-23T03:06:45.832748Z"
    }
   },
   "outputs": [],
   "source": [
    "old_stats=pd.DataFrame(old_disambig_data.describe())\n",
    "\n",
    "new_stats= pd.DataFrame(new_disambig_data.describe())\n",
    "\n",
    "old_stats.join(new_stats,lsuffix=\"_old\", rsuffix=\"_new\")"
   ]
  },
  {
   "cell_type": "code",
   "execution_count": null,
   "metadata": {
    "ExecuteTime": {
     "end_time": "2020-09-23T13:04:58.658943Z",
     "start_time": "2020-09-23T13:04:35.523274Z"
    }
   },
   "outputs": [],
   "source": [
    "generate_comparitive_violin_plot(old_disambig_data.cluster_size, new_disambig_data.cluster_size, log=True)"
   ]
  }
 ],
 "metadata": {
  "kernelspec": {
   "display_name": "Python 3",
   "language": "python",
   "name": "python3"
  },
  "language_info": {
   "codemirror_mode": {
    "name": "ipython",
    "version": 3
   },
   "file_extension": ".py",
   "mimetype": "text/x-python",
   "name": "python",
   "nbconvert_exporter": "python",
   "pygments_lexer": "ipython3",
   "version": "3.8.5"
  }
 },
 "nbformat": 4,
 "nbformat_minor": 4
}
